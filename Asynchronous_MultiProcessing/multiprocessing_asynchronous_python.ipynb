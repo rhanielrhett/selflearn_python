{
 "cells": [
  {
   "cell_type": "markdown",
   "metadata": {},
   "source": [
    "# Asynchronous and Multiprocessing in Python"
   ]
  },
  {
   "cell_type": "markdown",
   "metadata": {},
   "source": [
    "The easiest way to understand:\n",
    "\n",
    "Chef: CPU | Waiters: Threads"
   ]
  },
  {
   "cell_type": "markdown",
   "metadata": {},
   "source": [
    "## 1. Threads"
   ]
  },
  {
   "cell_type": "markdown",
   "metadata": {},
   "source": [
    "### Are lightweight units of execution that run within a process. This runs in THE SAME memory space. Useful when:\n",
    "\n",
    "### Applications: </br>\n",
    "    1. Performing several tasks simultaneously w/o need of additional memory overhead or processing power coming with multiple processes </br> </br>\n",
    "    2. Dealing with I/O-bound tasks that don't require a lot of CPU resources. (example: web server that needs to handle multiple incoming requests)"
   ]
  },
  {
   "cell_type": "markdown",
   "metadata": {},
   "source": [
    "## 2. Multiprocessing"
   ]
  },
  {
   "cell_type": "markdown",
   "metadata": {},
   "source": [
    "### Allows spawning of multiple processes that can execute tasks concurrently. </br>\n",
    "\n",
    "### Applications: </br>\n",
    "    1. CPU-bound tasks: data processing and scientific calculations </br>\n",
    "    2. One process is NOT dependent on another. (in case one process crashes or encounters error)"
   ]
  },
  {
   "cell_type": "markdown",
   "metadata": {},
   "source": [
    "## 3. Asyncio"
   ]
  },
  {
   "cell_type": "markdown",
   "metadata": {},
   "source": [
    "### Allows concurrent tasks within a SINGLE THREAD. </br>\n",
    "\n",
    "### Applications: </br>\n",
    "    1. I/O-bound tasks: network communication, file reading\n",
    "    2. Uses coroutines to perform tasks (similar to functions) -- can be paused and resumed"
   ]
  },
  {
   "cell_type": "markdown",
   "metadata": {},
   "source": [
    "## 4. Concurrent.futures"
   ]
  },
  {
   "cell_type": "markdown",
   "metadata": {},
   "source": [
    "### Abstracts away the details of managing threads and processes -- for easier writing of concurrent codes. </br>\n",
    "\n",
    "### Applications: </br>\n",
    "    1. Writing simpler code and more consise than using the lower-level threading or multiprocessing modules."
   ]
  },
  {
   "cell_type": "markdown",
   "metadata": {},
   "source": [
    "## 5. Coroutine"
   ]
  },
  {
   "cell_type": "markdown",
   "metadata": {},
   "source": [
    "### Functions that can be paused and resumed at specific points -- allowing concurrency on a single thread. </br>\n",
    "\n",
    "### Applications: </br>\n",
    "    1. Performing I/O-bound tasks in a single thread: making multiple HTTP requests or reading multiple files"
   ]
  },
  {
   "cell_type": "markdown",
   "metadata": {},
   "source": [
    "# Points for Consideration When Using Multiprocessing and Asynchronous Programming"
   ]
  },
  {
   "cell_type": "markdown",
   "metadata": {},
   "source": [
    "## 1. Performance\n",
    "## 2. Memory Usage\n",
    "## 3. Ease of Use\n",
    "## 4. Debugging and Error Handling"
   ]
  },
  {
   "cell_type": "code",
   "execution_count": null,
   "metadata": {},
   "outputs": [],
   "source": []
  }
 ],
 "metadata": {
  "language_info": {
   "name": "python"
  }
 },
 "nbformat": 4,
 "nbformat_minor": 2
}
